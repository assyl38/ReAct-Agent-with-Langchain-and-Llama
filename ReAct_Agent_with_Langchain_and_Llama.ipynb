{
  "nbformat": 4,
  "nbformat_minor": 0,
  "metadata": {
    "colab": {
      "provenance": []
    },
    "kernelspec": {
      "name": "python3",
      "display_name": "Python 3"
    },
    "language_info": {
      "name": "python"
    }
  },
  "cells": [
    {
      "cell_type": "code",
      "execution_count": null,
      "metadata": {
        "id": "YYjt332Kv8pX"
      },
      "outputs": [],
      "source": [
        "!pip install -U groq"
      ]
    },
    {
      "cell_type": "code",
      "source": [
        "import os\n",
        "\n",
        "# Prompt the user for the GROQ API Key\n",
        "api_key = input(\"Please enter your GROQ API Key: \")\n",
        "os.environ['GROQ_API_KEY'] = api_key\n"
      ],
      "metadata": {
        "id": "w0qIiDK5wAYZ"
      },
      "execution_count": null,
      "outputs": []
    },
    {
      "cell_type": "code",
      "source": [
        "from groq import Groq\n",
        "client = Groq(api_key=os.environ.get(\"GROQ_API_KEY\"))\n",
        "\n",
        "chat_completion = client.chat.completions.create(\n",
        "    messages=[\n",
        "        {\"role\": \"user\", \"content\": \"Explain the importance of fast language models\"}\n",
        "    ],\n",
        "    model=\"llama3-70b-8192\",\n",
        "    temperature=0\n",
        ")\n",
        "\n",
        "print(chat_completion.choices[0].message.content)\n"
      ],
      "metadata": {
        "colab": {
          "base_uri": "https://localhost:8080/"
        },
        "id": "ejFzavIiwAa3",
        "outputId": "8bbcbd76-be23-4004-9cad-876ad208f5b5"
      },
      "execution_count": 10,
      "outputs": [
        {
          "output_type": "stream",
          "name": "stdout",
          "text": [
            "Fast language models are crucial in today's natural language processing (NLP) landscape, and their importance can be attributed to several factors:\n",
            "\n",
            "1. **Real-time Applications**: Fast language models enable real-time applications such as chatbots, virtual assistants, and language translation systems to respond quickly and efficiently. This is particularly important in scenarios where timely responses are critical, such as customer support or emergency services.\n",
            "2. **Low-Latency Requirements**: Many modern applications, like voice assistants, require language models to process and respond to user input within a few hundred milliseconds. Fast language models can meet these low-latency requirements, ensuring a seamless user experience.\n",
            "3. **Scalability**: Fast language models can handle large volumes of data and user requests, making them essential for large-scale NLP applications, such as language translation platforms or social media analytics tools.\n",
            "4. **Energy Efficiency**: Fast language models can reduce the computational resources and energy required to process language tasks, making them more environmentally friendly and cost-effective.\n",
            "5. **Improved User Experience**: Fast language models can lead to a more responsive and engaging user experience, as users receive quick and accurate responses to their queries.\n",
            "6. **Competitive Advantage**: In industries like customer service, fast language models can provide a competitive advantage by enabling companies to respond quickly and efficiently to customer inquiries, leading to higher customer satisfaction and loyalty.\n",
            "7. **Research and Development**: Fast language models can accelerate research and development in NLP, enabling researchers to experiment and iterate faster, and driving innovation in areas like language understanding, generation, and translation.\n",
            "8. **Edge Computing**: Fast language models are essential for edge computing applications, where data is processed and analyzed in real-time on devices or sensors, rather than in the cloud or on remote servers.\n",
            "9. **Autonomous Systems**: Fast language models can enable autonomous systems, such as self-driving cars or robots, to process and respond to language inputs in real-time, ensuring safe and efficient operation.\n",
            "10. **Healthcare and Emergency Services**: Fast language models can be critical in healthcare and emergency services, where timely and accurate language processing can be a matter of life and death.\n",
            "\n",
            "To achieve fast language models, researchers and developers employ various techniques, including:\n",
            "\n",
            "1. Model pruning and knowledge distillation\n",
            "2. Quantization and binarization\n",
            "3. Efficient neural network architectures\n",
            "4. Parallel processing and distributed computing\n",
            "5. Caching and memoization\n",
            "6. Specialized hardware, such as TPUs or GPUs\n",
            "\n",
            "By leveraging these techniques, fast language models can unlock new possibilities in NLP and have a significant impact on various industries and applications.\n"
          ]
        }
      ]
    },
    {
      "cell_type": "code",
      "source": [
        "class Agent:\n",
        "    def __init__(self, client: Groq, system: str = \"\") -> None:\n",
        "        self.client = client\n",
        "        self.system = system\n",
        "        self.messages: list = []\n",
        "        if self.system:\n",
        "            self.messages.append({\"role\": \"system\", \"content\": system})\n",
        "\n",
        "    def __call__(self, message=\"\"):\n",
        "        if message:\n",
        "            self.messages.append({\"role\": \"user\", \"content\": message})\n",
        "        result = self.execute()\n",
        "        self.messages.append({\"role\": \"assistant\", \"content\": result})\n",
        "        return result\n",
        "\n",
        "    def execute(self):\n",
        "        completion = client.chat.completions.create(\n",
        "            model=\"llama3-70b-8192\", messages=self.messages\n",
        "        )\n",
        "        return completion.choices[0].message.content"
      ],
      "metadata": {
        "id": "dvYc8xViwAdt"
      },
      "execution_count": 11,
      "outputs": []
    },
    {
      "cell_type": "code",
      "source": [
        "system_prompt = \"\"\"\n",
        "You run in a loop of Thought, Action, PAUSE, Observation.\n",
        "At the end of the loop you output an Answer\n",
        "Use Thought to describe your thoughts about the question you have been asked.\n",
        "Use Action to run one of the actions available to you - then return PAUSE.\n",
        "Observation will be the result of running those actions.\n",
        "\n",
        "Your available actions are:\n",
        "\n",
        "calculate:\n",
        "e.g. calculate: 4 * 7 / 3\n",
        "Runs a calculation and returns the number - uses Python so be sure to use floating point syntax if necessary\n",
        "\n",
        "wikipedia:\n",
        "e.g. wikipedia: Django\n",
        "Returns a summary from searching Wikipedia\n",
        "\n",
        "Always look things up on Wikipedia if you have the opportunity to do so.\n",
        "\n",
        "Example session:\n",
        "\n",
        "Question: What is the capital of France?\n",
        "Thought: I should look up France on Wikipedia\n",
        "Action: wikipedia: France\n",
        "PAUSE\n",
        "\n",
        "You will be called again with this:\n",
        "\n",
        "Observation: France is a country. The capital is Paris.\n",
        "Thought: I think I have found the answer\n",
        "Action: Paris.\n",
        "You should then call the appropriate action and determine the answer from the result\n",
        "\n",
        "You then output:\n",
        "\n",
        "Answer: The capital of France is Paris\n",
        "\n",
        "Example session\n",
        "\n",
        "Question: What is the mass of Earth times 2?\n",
        "Thought: I need to find the mass of Earth on Wikipedia\n",
        "Action: wikipedia : mass of earth\n",
        "PAUSE\n",
        "\n",
        "You will be called again with this:\n",
        "\n",
        "Observation: mass of earth is 1,1944×10e25\n",
        "\n",
        "Thought: I need to multiply this by 2\n",
        "Action: calculate: 5.972e24 * 2\n",
        "PAUSE\n",
        "\n",
        "You will be called again with this:\n",
        "\n",
        "Observation: 1,1944×10e25\n",
        "\n",
        "If you have the answer, output it as the Answer.\n",
        "\n",
        "Answer: The mass of Earth times 2 is 1,1944×10e25.\n",
        "\n",
        "Now it's your turn:\n",
        "\"\"\".strip()"
      ],
      "metadata": {
        "id": "gtkRVxuGwAgd"
      },
      "execution_count": 12,
      "outputs": []
    },
    {
      "cell_type": "code",
      "source": [
        "import re\n",
        "import httpx\n",
        "def wikipedia(q):\n",
        "    return httpx.get(\"https://en.wikipedia.org/w/api.php\", params={\n",
        "        \"action\": \"query\",\n",
        "        \"list\": \"search\",\n",
        "        \"srsearch\": q,\n",
        "        \"format\": \"json\"\n",
        "    }).json()[\"query\"][\"search\"][0][\"snippet\"]\n",
        "#\n",
        "def calculate(operation: str) -> float:\n",
        "    return eval(operation)\n",
        "#"
      ],
      "metadata": {
        "id": "UCvLAzyZwAjJ"
      },
      "execution_count": 13,
      "outputs": []
    },
    {
      "cell_type": "code",
      "source": [
        "def loop(max_iterations=10, query: str = \"\"):\n",
        "\n",
        "    agent = Agent(client=client, system=system_prompt)\n",
        "\n",
        "    tools = [\"calculate\", \"wikipedia\"]\n",
        "\n",
        "    next_prompt = query\n",
        "\n",
        "    i = 0\n",
        "\n",
        "    while i < max_iterations:\n",
        "        i += 1\n",
        "        result = agent(next_prompt)\n",
        "        print(result)\n",
        "\n",
        "        if \"PAUSE\" in result and \"Action\" in result:\n",
        "            action = re.findall(r\"Action: ([a-z_]+): (.+)\", result, re.IGNORECASE)\n",
        "            print(action)\n",
        "            chosen_tool = action[0][0]\n",
        "            arg = action[0][1]\n",
        "\n",
        "            if chosen_tool in tools:\n",
        "                result_tool = eval(f\"{chosen_tool}('{arg}')\")\n",
        "                next_prompt = f\"Observation: {result_tool}\"\n",
        "\n",
        "            else:\n",
        "                next_prompt = \"Observation: Tool not found\"\n",
        "\n",
        "            print(next_prompt)\n",
        "            continue\n",
        "\n",
        "        if \"Answer\" in result:\n",
        "            break"
      ],
      "metadata": {
        "id": "eaZIYrLPwAlt"
      },
      "execution_count": 14,
      "outputs": []
    },
    {
      "cell_type": "code",
      "source": [
        "loop(query=\"What is current age of Mr. Nadrendra Modi multiplied by 2?\")"
      ],
      "metadata": {
        "colab": {
          "base_uri": "https://localhost:8080/"
        },
        "id": "pye2_ajUwAoj",
        "outputId": "f2a89931-b0ac-4b1a-dae0-968673981f16"
      },
      "execution_count": 16,
      "outputs": [
        {
          "output_type": "stream",
          "name": "stdout",
          "text": [
            "Thought: I need to find the birthdate of Narendra Modi on Wikipedia.\n",
            "Action: wikipedia: Narendra Modi\n",
            "PAUSE\n",
            "[('wikipedia', 'Narendra Modi')]\n",
            "Observation: <span class=\"searchmatch\">Narendra</span> Damodardas <span class=\"searchmatch\">Modi</span> (Gujarati: [<span class=\"searchmatch\">ˈnəɾendɾə</span> dɑmodəɾˈdɑs <span class=\"searchmatch\">ˈmodiː</span>] ; born 17 September 1950) is an Indian politician serving as the current prime minister\n",
            "Thought: I have found the birthdate of Narendra Modi, now I need to calculate his current age and multiply it by 2.\n",
            "Action: calculate: (2023 - 1950)\n",
            "PAUSE\n",
            "[('calculate', '(2023 - 1950)')]\n",
            "Observation: 73\n",
            "Thought: I have calculated Narendra Modi's current age, now I need to multiply it by 2.\n",
            "Action: calculate: 73 * 2\n",
            "PAUSE\n",
            "[('calculate', '73 * 2')]\n",
            "Observation: 146\n",
            "Thought: I have calculated Narendra Modi's current age multiplied by 2.\n",
            "\n",
            "Answer: The current age of Mr. Narendra Modi multiplied by 2 is 146.\n"
          ]
        }
      ]
    },
    {
      "cell_type": "code",
      "source": [
        "loop(query=\"What will be age of Mr. Narendra Modi in 2024 multiplied by 2?\")"
      ],
      "metadata": {
        "colab": {
          "base_uri": "https://localhost:8080/"
        },
        "id": "zf4vMJy5wArI",
        "outputId": "2bfd0a0a-101d-4bac-bda6-80ddce415c90"
      },
      "execution_count": 17,
      "outputs": [
        {
          "output_type": "stream",
          "name": "stdout",
          "text": [
            "Thought: I should look up Narendra Modi's age on Wikipedia\n",
            "Action: wikipedia: Narendra Modi\n",
            "PAUSE\n",
            "[('wikipedia', 'Narendra Modi')]\n",
            "Observation: <span class=\"searchmatch\">Narendra</span> Damodardas <span class=\"searchmatch\">Modi</span> (Gujarati: [<span class=\"searchmatch\">ˈnəɾendɾə</span> dɑmodəɾˈdɑs <span class=\"searchmatch\">ˈmodiː</span>] ; born 17 September 1950) is an Indian politician serving as the current prime minister\n",
            "Thought: I have found the birthdate of Narendra Modi, now I need to calculate his age in 2024\n",
            "Action: calculate: 2024 - 1950\n",
            "PAUSE\n",
            "[('calculate', '2024 - 1950')]\n",
            "Observation: 74\n",
            "Thought: I need to multiply Narendra Modi's age in 2024 by 2\n",
            "Action: calculate: 74 * 2\n",
            "PAUSE\n",
            "[('calculate', '74 * 2')]\n",
            "Observation: 148\n",
            "Thought: I have calculated Narendra Modi's age in 2024 multiplied by 2\n",
            "Answer: Narendra Modi's age in 2024 multiplied by 2 is 148.\n"
          ]
        }
      ]
    },
    {
      "cell_type": "code",
      "source": [
        "loop(query=\"What is the square root of mass of the earth multiplied by 10?\")"
      ],
      "metadata": {
        "colab": {
          "base_uri": "https://localhost:8080/"
        },
        "id": "j3PqHvb8wAt5",
        "outputId": "772028fe-0da5-4139-ea38-33e4c6a403a7"
      },
      "execution_count": 18,
      "outputs": [
        {
          "output_type": "stream",
          "name": "stdout",
          "text": [
            "Thought: I need to find the mass of Earth on Wikipedia\n",
            "Action: wikipedia: mass of earth\n",
            "PAUSE\n",
            "[('wikipedia', 'mass of earth')]\n",
            "Observation: <span class=\"searchmatch\">Earth</span> <span class=\"searchmatch\">mass</span> (denoted as M🜨, M♁ or ME, where 🜨 and ♁ are the astronomical symbols for <span class=\"searchmatch\">Earth</span>), is a unit <span class=\"searchmatch\">of</span> <span class=\"searchmatch\">mass</span> equal to the <span class=\"searchmatch\">mass</span> <span class=\"searchmatch\">of</span> the planet <span class=\"searchmatch\">Earth</span>\n",
            "Thought: I didn't quite get the mass of Earth, let me try again\n",
            "Action: wikipedia: mass of earth in kg\n",
            "PAUSE\n",
            "[('wikipedia', 'mass of earth in kg')]\n",
            "Observation: estimate for the <span class=\"searchmatch\">mass</span> <span class=\"searchmatch\">of</span> <span class=\"searchmatch\">Earth</span> is M🜨 = 5.9722×1024 <span class=\"searchmatch\">kg</span>, with a relative uncertainty <span class=\"searchmatch\">of</span> 10−4. It is equivalent to an average density <span class=\"searchmatch\">of</span> 5515 <span class=\"searchmatch\">kg</span>/m3. Using the\n",
            "Thought: I have the mass of Earth, now I need to multiply it by 10 and find the square root\n",
            "Action: calculate: (5.9722e24 * 10) ** 0.5\n",
            "PAUSE\n",
            "[('calculate', '(5.9722e24 * 10) ** 0.5')]\n",
            "Observation: 7728001035196.618\n",
            "Thought: I think I have found the answer\n",
            "Action: \n",
            "Answer: The square root of the mass of the earth multiplied by 10 is 7728001035196.618\n"
          ]
        }
      ]
    },
    {
      "cell_type": "code",
      "source": [
        "loop(query=\"How should I calcualate the number pi\")\n"
      ],
      "metadata": {
        "colab": {
          "base_uri": "https://localhost:8080/"
        },
        "id": "PjNKhVrvwAw6",
        "outputId": "f9e5b503-a48a-436b-db37-db41be24145e"
      },
      "execution_count": 20,
      "outputs": [
        {
          "output_type": "stream",
          "name": "stdout",
          "text": [
            "Thought: I should look up how to calculate pi on Wikipedia.\n",
            "Action: wikipedia: pi\n",
            "PAUSE\n",
            "[('wikipedia', 'pi')]\n",
            "Observation: The number π (/paɪ/; spelled out as &quot;<span class=\"searchmatch\">pi</span>&quot;) is a mathematical constant that is the ratio of a circle's circumference to its diameter, approximately equal\n",
            "Thought: I need to find a way to calculate pi, not just read about it. I should look up the formula to calculate pi on Wikipedia.\n",
            "Action: wikipedia: calculating pi\n",
            "PAUSE\n",
            "[('wikipedia', 'calculating pi')]\n",
            "Observation: January 2020. &quot;<span class=\"searchmatch\">Calculating</span> <span class=\"searchmatch\">Pi</span>: My attempt at breaking the <span class=\"searchmatch\">Pi</span> World Record&quot;. 26 June 2019. Retrieved 30 January 2020. &quot;Die FH Graubünden kennt <span class=\"searchmatch\">Pi</span> am genauesten\n",
            "Thought: I'm not getting the formula to calculate pi from Wikipedia. I think I need to try a different approach. I've heard of the Bailey-Borwein-Plouffe formula, which is a spigot algorithm for computing the nth binary digit of pi using base 16 arithmetic.\n",
            "Action: wikipedia: Bailey-Borwein-Plouffe formula\n",
            "PAUSE\n",
            "[('wikipedia', 'Bailey-Borwein-Plouffe formula')]\n",
            "Observation: The <span class=\"searchmatch\">Bailey</span>–<span class=\"searchmatch\">Borwein</span>–<span class=\"searchmatch\">Plouffe</span> <span class=\"searchmatch\">formula</span> (BBP <span class=\"searchmatch\">formula</span>) is a <span class=\"searchmatch\">formula</span> for π. It was discovered in 1995 by Simon <span class=\"searchmatch\">Plouffe</span> and is named after the authors of the\n",
            "Thought: I think I have found the formula to calculate pi. The BBP formula is a spigot algorithm for computing the nth binary digit of pi. However, it's a bit complex and I'm not sure how to implement it. I'll try to calculate pi using the formula pi = 4 * (1 - 1/3 + 1/5 - 1/7 + ...), which is a simpler infinite series.\n",
            "Action: calculate: 4 * (1 - 1/3 + 1/5 - 1/7 + 1/9 - 1/11)\n",
            "PAUSE\n",
            "[('calculate', '4 * (1 - 1/3 + 1/5 - 1/7 + 1/9 - 1/11)')]\n",
            "Observation: 2.9760461760461765\n",
            "Thought: Ah, I think I've got a decent approximation of pi! The result looks like a reasonable value for pi.\n",
            "Action: None\n",
            "Answer: The approximation of pi is 2.9760461760461765.\n"
          ]
        }
      ]
    },
    {
      "cell_type": "code",
      "source": [],
      "metadata": {
        "id": "T_eIYwngwAzL"
      },
      "execution_count": null,
      "outputs": []
    },
    {
      "cell_type": "code",
      "source": [],
      "metadata": {
        "id": "u6hVDz8xwA2Q"
      },
      "execution_count": null,
      "outputs": []
    },
    {
      "cell_type": "code",
      "source": [],
      "metadata": {
        "id": "gK4TIjXmwA4u"
      },
      "execution_count": null,
      "outputs": []
    },
    {
      "cell_type": "code",
      "source": [],
      "metadata": {
        "id": "i5-7gKhcwA7j"
      },
      "execution_count": null,
      "outputs": []
    },
    {
      "cell_type": "code",
      "source": [],
      "metadata": {
        "id": "DRmmtON7wA-f"
      },
      "execution_count": null,
      "outputs": []
    },
    {
      "cell_type": "code",
      "source": [],
      "metadata": {
        "id": "B7bcSLqJwBBC"
      },
      "execution_count": null,
      "outputs": []
    },
    {
      "cell_type": "code",
      "source": [],
      "metadata": {
        "id": "C5fFqFpAwBEX"
      },
      "execution_count": null,
      "outputs": []
    }
  ]
}